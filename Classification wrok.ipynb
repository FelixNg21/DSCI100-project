{
 "cells": [
  {
   "cell_type": "code",
   "execution_count": 14,
   "metadata": {},
   "outputs": [],
   "source": [
    "library(tidyverse)\n",
    "library(repr)\n",
    "library(tidymodels)\n",
    "options(repr.plot.width = 12, repr.plot.height = 12) "
   ]
  },
  {
   "cell_type": "code",
   "execution_count": 15,
   "metadata": {},
   "outputs": [
    {
     "name": "stderr",
     "output_type": "stream",
     "text": [
      "Parsed with column specification:\n",
      "cols(\n",
      "  .default = col_character(),\n",
      "  age = \u001b[32mcol_double()\u001b[39m,\n",
      "  Medu = \u001b[32mcol_double()\u001b[39m,\n",
      "  Fedu = \u001b[32mcol_double()\u001b[39m,\n",
      "  traveltime = \u001b[32mcol_double()\u001b[39m,\n",
      "  studytime = \u001b[32mcol_double()\u001b[39m,\n",
      "  failures = \u001b[32mcol_double()\u001b[39m,\n",
      "  famrel = \u001b[32mcol_double()\u001b[39m,\n",
      "  freetime = \u001b[32mcol_double()\u001b[39m,\n",
      "  goout = \u001b[32mcol_double()\u001b[39m,\n",
      "  Dalc = \u001b[32mcol_double()\u001b[39m,\n",
      "  Walc = \u001b[32mcol_double()\u001b[39m,\n",
      "  health = \u001b[32mcol_double()\u001b[39m,\n",
      "  absences = \u001b[32mcol_double()\u001b[39m,\n",
      "  G1 = \u001b[32mcol_double()\u001b[39m,\n",
      "  G2 = \u001b[32mcol_double()\u001b[39m,\n",
      "  G3 = \u001b[32mcol_double()\u001b[39m\n",
      ")\n",
      "\n",
      "See spec(...) for full column specifications.\n",
      "\n"
     ]
    }
   ],
   "source": [
    "# Read the zip file from url and unzip so it can be loaded into a dataframe\n",
    "url <- \"https://archive.ics.uci.edu/ml/machine-learning-databases/00320/student.zip\"\n",
    "zip_file <- tempfile(fileext = \".zip\")\n",
    "download.file(url, zip_file, mode = \"wb\")\n",
    "student_data <- read_delim(unz(description = zip_file, filename = \"student-mat.csv\"), delim = \";\")"
   ]
  },
  {
   "cell_type": "code",
   "execution_count": 16,
   "metadata": {},
   "outputs": [
    {
     "data": {
      "text/html": [
       "<table>\n",
       "<caption>A grouped_df: 6 × 34</caption>\n",
       "<thead>\n",
       "\t<tr><th scope=col>school</th><th scope=col>sex</th><th scope=col>age</th><th scope=col>address</th><th scope=col>famsize</th><th scope=col>Pstatus</th><th scope=col>Medu</th><th scope=col>Fedu</th><th scope=col>Mjob</th><th scope=col>Fjob</th><th scope=col>⋯</th><th scope=col>freetime</th><th scope=col>goout</th><th scope=col>Dalc</th><th scope=col>Walc</th><th scope=col>health</th><th scope=col>absences</th><th scope=col>G1</th><th scope=col>G2</th><th scope=col>G3</th><th scope=col>label</th></tr>\n",
       "\t<tr><th scope=col>&lt;chr&gt;</th><th scope=col>&lt;chr&gt;</th><th scope=col>&lt;dbl&gt;</th><th scope=col>&lt;chr&gt;</th><th scope=col>&lt;chr&gt;</th><th scope=col>&lt;chr&gt;</th><th scope=col>&lt;dbl&gt;</th><th scope=col>&lt;dbl&gt;</th><th scope=col>&lt;chr&gt;</th><th scope=col>&lt;chr&gt;</th><th scope=col>⋯</th><th scope=col>&lt;dbl&gt;</th><th scope=col>&lt;dbl&gt;</th><th scope=col>&lt;dbl&gt;</th><th scope=col>&lt;dbl&gt;</th><th scope=col>&lt;dbl&gt;</th><th scope=col>&lt;dbl&gt;</th><th scope=col>&lt;dbl&gt;</th><th scope=col>&lt;dbl&gt;</th><th scope=col>&lt;dbl&gt;</th><th scope=col>&lt;fct&gt;</th></tr>\n",
       "</thead>\n",
       "<tbody>\n",
       "\t<tr><td>GP</td><td>F</td><td>18</td><td>U</td><td>GT3</td><td>A</td><td>4</td><td>4</td><td>at_home </td><td>teacher </td><td>⋯</td><td>3</td><td>4</td><td>1</td><td>1</td><td>3</td><td> 6</td><td> 5</td><td> 6</td><td> 6</td><td>1</td></tr>\n",
       "\t<tr><td>GP</td><td>F</td><td>17</td><td>U</td><td>GT3</td><td>T</td><td>1</td><td>1</td><td>at_home </td><td>other   </td><td>⋯</td><td>3</td><td>3</td><td>1</td><td>1</td><td>3</td><td> 4</td><td> 5</td><td> 5</td><td> 6</td><td>1</td></tr>\n",
       "\t<tr><td>GP</td><td>F</td><td>15</td><td>U</td><td>LE3</td><td>T</td><td>1</td><td>1</td><td>at_home </td><td>other   </td><td>⋯</td><td>3</td><td>2</td><td>2</td><td>3</td><td>3</td><td>10</td><td> 7</td><td> 8</td><td>10</td><td>2</td></tr>\n",
       "\t<tr><td>GP</td><td>F</td><td>15</td><td>U</td><td>GT3</td><td>T</td><td>4</td><td>2</td><td>health  </td><td>services</td><td>⋯</td><td>2</td><td>2</td><td>1</td><td>1</td><td>5</td><td> 2</td><td>15</td><td>14</td><td>15</td><td>4</td></tr>\n",
       "\t<tr><td>GP</td><td>F</td><td>16</td><td>U</td><td>GT3</td><td>T</td><td>3</td><td>3</td><td>other   </td><td>other   </td><td>⋯</td><td>3</td><td>2</td><td>1</td><td>2</td><td>5</td><td> 4</td><td> 6</td><td>10</td><td>10</td><td>2</td></tr>\n",
       "\t<tr><td>GP</td><td>M</td><td>16</td><td>U</td><td>LE3</td><td>T</td><td>4</td><td>3</td><td>services</td><td>other   </td><td>⋯</td><td>4</td><td>2</td><td>1</td><td>2</td><td>5</td><td>10</td><td>15</td><td>15</td><td>15</td><td>4</td></tr>\n",
       "</tbody>\n",
       "</table>\n"
      ],
      "text/latex": [
       "A grouped\\_df: 6 × 34\n",
       "\\begin{tabular}{lllllllllllllllllllll}\n",
       " school & sex & age & address & famsize & Pstatus & Medu & Fedu & Mjob & Fjob & ⋯ & freetime & goout & Dalc & Walc & health & absences & G1 & G2 & G3 & label\\\\\n",
       " <chr> & <chr> & <dbl> & <chr> & <chr> & <chr> & <dbl> & <dbl> & <chr> & <chr> & ⋯ & <dbl> & <dbl> & <dbl> & <dbl> & <dbl> & <dbl> & <dbl> & <dbl> & <dbl> & <fct>\\\\\n",
       "\\hline\n",
       "\t GP & F & 18 & U & GT3 & A & 4 & 4 & at\\_home  & teacher  & ⋯ & 3 & 4 & 1 & 1 & 3 &  6 &  5 &  6 &  6 & 1\\\\\n",
       "\t GP & F & 17 & U & GT3 & T & 1 & 1 & at\\_home  & other    & ⋯ & 3 & 3 & 1 & 1 & 3 &  4 &  5 &  5 &  6 & 1\\\\\n",
       "\t GP & F & 15 & U & LE3 & T & 1 & 1 & at\\_home  & other    & ⋯ & 3 & 2 & 2 & 3 & 3 & 10 &  7 &  8 & 10 & 2\\\\\n",
       "\t GP & F & 15 & U & GT3 & T & 4 & 2 & health   & services & ⋯ & 2 & 2 & 1 & 1 & 5 &  2 & 15 & 14 & 15 & 4\\\\\n",
       "\t GP & F & 16 & U & GT3 & T & 3 & 3 & other    & other    & ⋯ & 3 & 2 & 1 & 2 & 5 &  4 &  6 & 10 & 10 & 2\\\\\n",
       "\t GP & M & 16 & U & LE3 & T & 4 & 3 & services & other    & ⋯ & 4 & 2 & 1 & 2 & 5 & 10 & 15 & 15 & 15 & 4\\\\\n",
       "\\end{tabular}\n"
      ],
      "text/markdown": [
       "\n",
       "A grouped_df: 6 × 34\n",
       "\n",
       "| school &lt;chr&gt; | sex &lt;chr&gt; | age &lt;dbl&gt; | address &lt;chr&gt; | famsize &lt;chr&gt; | Pstatus &lt;chr&gt; | Medu &lt;dbl&gt; | Fedu &lt;dbl&gt; | Mjob &lt;chr&gt; | Fjob &lt;chr&gt; | ⋯ ⋯ | freetime &lt;dbl&gt; | goout &lt;dbl&gt; | Dalc &lt;dbl&gt; | Walc &lt;dbl&gt; | health &lt;dbl&gt; | absences &lt;dbl&gt; | G1 &lt;dbl&gt; | G2 &lt;dbl&gt; | G3 &lt;dbl&gt; | label &lt;fct&gt; |\n",
       "|---|---|---|---|---|---|---|---|---|---|---|---|---|---|---|---|---|---|---|---|---|\n",
       "| GP | F | 18 | U | GT3 | A | 4 | 4 | at_home  | teacher  | ⋯ | 3 | 4 | 1 | 1 | 3 |  6 |  5 |  6 |  6 | 1 |\n",
       "| GP | F | 17 | U | GT3 | T | 1 | 1 | at_home  | other    | ⋯ | 3 | 3 | 1 | 1 | 3 |  4 |  5 |  5 |  6 | 1 |\n",
       "| GP | F | 15 | U | LE3 | T | 1 | 1 | at_home  | other    | ⋯ | 3 | 2 | 2 | 3 | 3 | 10 |  7 |  8 | 10 | 2 |\n",
       "| GP | F | 15 | U | GT3 | T | 4 | 2 | health   | services | ⋯ | 2 | 2 | 1 | 1 | 5 |  2 | 15 | 14 | 15 | 4 |\n",
       "| GP | F | 16 | U | GT3 | T | 3 | 3 | other    | other    | ⋯ | 3 | 2 | 1 | 2 | 5 |  4 |  6 | 10 | 10 | 2 |\n",
       "| GP | M | 16 | U | LE3 | T | 4 | 3 | services | other    | ⋯ | 4 | 2 | 1 | 2 | 5 | 10 | 15 | 15 | 15 | 4 |\n",
       "\n"
      ],
      "text/plain": [
       "  school sex age address famsize Pstatus Medu Fedu Mjob     Fjob     ⋯ freetime\n",
       "1 GP     F   18  U       GT3     A       4    4    at_home  teacher  ⋯ 3       \n",
       "2 GP     F   17  U       GT3     T       1    1    at_home  other    ⋯ 3       \n",
       "3 GP     F   15  U       LE3     T       1    1    at_home  other    ⋯ 3       \n",
       "4 GP     F   15  U       GT3     T       4    2    health   services ⋯ 2       \n",
       "5 GP     F   16  U       GT3     T       3    3    other    other    ⋯ 3       \n",
       "6 GP     M   16  U       LE3     T       4    3    services other    ⋯ 4       \n",
       "  goout Dalc Walc health absences G1 G2 G3 label\n",
       "1 4     1    1    3       6        5  6  6 1    \n",
       "2 3     1    1    3       4        5  5  6 1    \n",
       "3 2     2    3    3      10        7  8 10 2    \n",
       "4 2     1    1    5       2       15 14 15 4    \n",
       "5 2     1    2    5       4        6 10 10 2    \n",
       "6 2     1    2    5      10       15 15 15 4    "
      ]
     },
     "metadata": {},
     "output_type": "display_data"
    }
   ],
   "source": [
    "# Grouped the Final Grade into intervals for easier labelling down the line\n",
    "# Grades 0-5 is 1, 6-10 is 2, 11-15 is 3 and 16-20 is 4\n",
    "\n",
    "student_data_group <- student_data %>%\n",
    "    mutate(label = cut(G3, c(0, 9, 11, 13, 15, 20), \n",
    "                       #labels = c(\"fail\", \"sufficient\", \"satisfactory\", \"good\", \"excellent\"), \n",
    "                       labels = c(1, 2, 3, 4, 5),\n",
    "                       left = FALSE)) %>%\n",
    "    group_by(label = as.factor(label)) %>%\n",
    "    filter(!is.na(label))\n",
    "\n",
    "head(student_data_group)"
   ]
  },
  {
   "cell_type": "markdown",
   "metadata": {},
   "source": [
    "Will remove all the binary data columns"
   ]
  },
  {
   "cell_type": "code",
   "execution_count": 17,
   "metadata": {},
   "outputs": [
    {
     "data": {
      "text/html": [
       "<table>\n",
       "<caption>A grouped_df: 6 × 16</caption>\n",
       "<thead>\n",
       "\t<tr><th scope=col>Medu</th><th scope=col>Fedu</th><th scope=col>traveltime</th><th scope=col>studytime</th><th scope=col>failures</th><th scope=col>famrel</th><th scope=col>freetime</th><th scope=col>goout</th><th scope=col>Dalc</th><th scope=col>Walc</th><th scope=col>health</th><th scope=col>absences</th><th scope=col>G1</th><th scope=col>G2</th><th scope=col>G3</th><th scope=col>label</th></tr>\n",
       "\t<tr><th scope=col>&lt;dbl&gt;</th><th scope=col>&lt;dbl&gt;</th><th scope=col>&lt;dbl&gt;</th><th scope=col>&lt;dbl&gt;</th><th scope=col>&lt;dbl&gt;</th><th scope=col>&lt;dbl&gt;</th><th scope=col>&lt;dbl&gt;</th><th scope=col>&lt;dbl&gt;</th><th scope=col>&lt;dbl&gt;</th><th scope=col>&lt;dbl&gt;</th><th scope=col>&lt;dbl&gt;</th><th scope=col>&lt;dbl&gt;</th><th scope=col>&lt;dbl&gt;</th><th scope=col>&lt;dbl&gt;</th><th scope=col>&lt;dbl&gt;</th><th scope=col>&lt;fct&gt;</th></tr>\n",
       "</thead>\n",
       "<tbody>\n",
       "\t<tr><td>4</td><td>4</td><td>2</td><td>2</td><td>0</td><td>4</td><td>3</td><td>4</td><td>1</td><td>1</td><td>3</td><td> 6</td><td> 5</td><td> 6</td><td> 6</td><td>1</td></tr>\n",
       "\t<tr><td>1</td><td>1</td><td>1</td><td>2</td><td>0</td><td>5</td><td>3</td><td>3</td><td>1</td><td>1</td><td>3</td><td> 4</td><td> 5</td><td> 5</td><td> 6</td><td>1</td></tr>\n",
       "\t<tr><td>1</td><td>1</td><td>1</td><td>2</td><td>3</td><td>4</td><td>3</td><td>2</td><td>2</td><td>3</td><td>3</td><td>10</td><td> 7</td><td> 8</td><td>10</td><td>2</td></tr>\n",
       "\t<tr><td>4</td><td>2</td><td>1</td><td>3</td><td>0</td><td>3</td><td>2</td><td>2</td><td>1</td><td>1</td><td>5</td><td> 2</td><td>15</td><td>14</td><td>15</td><td>4</td></tr>\n",
       "\t<tr><td>3</td><td>3</td><td>1</td><td>2</td><td>0</td><td>4</td><td>3</td><td>2</td><td>1</td><td>2</td><td>5</td><td> 4</td><td> 6</td><td>10</td><td>10</td><td>2</td></tr>\n",
       "\t<tr><td>4</td><td>3</td><td>1</td><td>2</td><td>0</td><td>5</td><td>4</td><td>2</td><td>1</td><td>2</td><td>5</td><td>10</td><td>15</td><td>15</td><td>15</td><td>4</td></tr>\n",
       "</tbody>\n",
       "</table>\n"
      ],
      "text/latex": [
       "A grouped\\_df: 6 × 16\n",
       "\\begin{tabular}{llllllllllllllll}\n",
       " Medu & Fedu & traveltime & studytime & failures & famrel & freetime & goout & Dalc & Walc & health & absences & G1 & G2 & G3 & label\\\\\n",
       " <dbl> & <dbl> & <dbl> & <dbl> & <dbl> & <dbl> & <dbl> & <dbl> & <dbl> & <dbl> & <dbl> & <dbl> & <dbl> & <dbl> & <dbl> & <fct>\\\\\n",
       "\\hline\n",
       "\t 4 & 4 & 2 & 2 & 0 & 4 & 3 & 4 & 1 & 1 & 3 &  6 &  5 &  6 &  6 & 1\\\\\n",
       "\t 1 & 1 & 1 & 2 & 0 & 5 & 3 & 3 & 1 & 1 & 3 &  4 &  5 &  5 &  6 & 1\\\\\n",
       "\t 1 & 1 & 1 & 2 & 3 & 4 & 3 & 2 & 2 & 3 & 3 & 10 &  7 &  8 & 10 & 2\\\\\n",
       "\t 4 & 2 & 1 & 3 & 0 & 3 & 2 & 2 & 1 & 1 & 5 &  2 & 15 & 14 & 15 & 4\\\\\n",
       "\t 3 & 3 & 1 & 2 & 0 & 4 & 3 & 2 & 1 & 2 & 5 &  4 &  6 & 10 & 10 & 2\\\\\n",
       "\t 4 & 3 & 1 & 2 & 0 & 5 & 4 & 2 & 1 & 2 & 5 & 10 & 15 & 15 & 15 & 4\\\\\n",
       "\\end{tabular}\n"
      ],
      "text/markdown": [
       "\n",
       "A grouped_df: 6 × 16\n",
       "\n",
       "| Medu &lt;dbl&gt; | Fedu &lt;dbl&gt; | traveltime &lt;dbl&gt; | studytime &lt;dbl&gt; | failures &lt;dbl&gt; | famrel &lt;dbl&gt; | freetime &lt;dbl&gt; | goout &lt;dbl&gt; | Dalc &lt;dbl&gt; | Walc &lt;dbl&gt; | health &lt;dbl&gt; | absences &lt;dbl&gt; | G1 &lt;dbl&gt; | G2 &lt;dbl&gt; | G3 &lt;dbl&gt; | label &lt;fct&gt; |\n",
       "|---|---|---|---|---|---|---|---|---|---|---|---|---|---|---|---|\n",
       "| 4 | 4 | 2 | 2 | 0 | 4 | 3 | 4 | 1 | 1 | 3 |  6 |  5 |  6 |  6 | 1 |\n",
       "| 1 | 1 | 1 | 2 | 0 | 5 | 3 | 3 | 1 | 1 | 3 |  4 |  5 |  5 |  6 | 1 |\n",
       "| 1 | 1 | 1 | 2 | 3 | 4 | 3 | 2 | 2 | 3 | 3 | 10 |  7 |  8 | 10 | 2 |\n",
       "| 4 | 2 | 1 | 3 | 0 | 3 | 2 | 2 | 1 | 1 | 5 |  2 | 15 | 14 | 15 | 4 |\n",
       "| 3 | 3 | 1 | 2 | 0 | 4 | 3 | 2 | 1 | 2 | 5 |  4 |  6 | 10 | 10 | 2 |\n",
       "| 4 | 3 | 1 | 2 | 0 | 5 | 4 | 2 | 1 | 2 | 5 | 10 | 15 | 15 | 15 | 4 |\n",
       "\n"
      ],
      "text/plain": [
       "  Medu Fedu traveltime studytime failures famrel freetime goout Dalc Walc\n",
       "1 4    4    2          2         0        4      3        4     1    1   \n",
       "2 1    1    1          2         0        5      3        3     1    1   \n",
       "3 1    1    1          2         3        4      3        2     2    3   \n",
       "4 4    2    1          3         0        3      2        2     1    1   \n",
       "5 3    3    1          2         0        4      3        2     1    2   \n",
       "6 4    3    1          2         0        5      4        2     1    2   \n",
       "  health absences G1 G2 G3 label\n",
       "1 3       6        5  6  6 1    \n",
       "2 3       4        5  5  6 1    \n",
       "3 3      10        7  8 10 2    \n",
       "4 5       2       15 14 15 4    \n",
       "5 5       4        6 10 10 2    \n",
       "6 5      10       15 15 15 4    "
      ]
     },
     "metadata": {},
     "output_type": "display_data"
    }
   ],
   "source": [
    "student_data_group_no_bin <- student_data_group %>%\n",
    "    select(Medu, Fedu, traveltime, studytime, failures, famrel, freetime, goout, Dalc, Walc, health, absences, G1, G2, G3, label)\n",
    "\n",
    "head(student_data_group_no_bin)"
   ]
  },
  {
   "cell_type": "code",
   "execution_count": 18,
   "metadata": {},
   "outputs": [],
   "source": [
    "# Split the data into training and testing set\n",
    "#student_data_split <- initial_split(student_data_cleaned_binary, prop = 0.75, strata = label)\n",
    "student_data_split <- initial_split(student_data_group_no_bin, prop = 0.75, strata = label)\n",
    "student_train <- training(student_data_split)\n",
    "student_test <- testing(student_data_split)\n"
   ]
  },
  {
   "cell_type": "code",
   "execution_count": 19,
   "metadata": {},
   "outputs": [
    {
     "name": "stderr",
     "output_type": "stream",
     "text": [
      "`summarise()` ungrouping output (override with `.groups` argument)\n",
      "\n",
      "`summarise()` ungrouping output (override with `.groups` argument)\n",
      "\n",
      "`summarise()` ungrouping output (override with `.groups` argument)\n",
      "\n",
      "`summarise()` ungrouping output (override with `.groups` argument)\n",
      "\n",
      "`summarise()` ungrouping output (override with `.groups` argument)\n",
      "\n"
     ]
    },
    {
     "data": {
      "text/html": [
       "<table>\n",
       "<caption>A tibble: 5 × 2</caption>\n",
       "<thead>\n",
       "\t<tr><th scope=col>Medu</th><th scope=col>n</th></tr>\n",
       "\t<tr><th scope=col>&lt;dbl&gt;</th><th scope=col>&lt;int&gt;</th></tr>\n",
       "</thead>\n",
       "<tbody>\n",
       "\t<tr><td>0</td><td> 3</td></tr>\n",
       "\t<tr><td>1</td><td>35</td></tr>\n",
       "\t<tr><td>2</td><td>66</td></tr>\n",
       "\t<tr><td>3</td><td>70</td></tr>\n",
       "\t<tr><td>4</td><td>95</td></tr>\n",
       "</tbody>\n",
       "</table>\n"
      ],
      "text/latex": [
       "A tibble: 5 × 2\n",
       "\\begin{tabular}{ll}\n",
       " Medu & n\\\\\n",
       " <dbl> & <int>\\\\\n",
       "\\hline\n",
       "\t 0 &  3\\\\\n",
       "\t 1 & 35\\\\\n",
       "\t 2 & 66\\\\\n",
       "\t 3 & 70\\\\\n",
       "\t 4 & 95\\\\\n",
       "\\end{tabular}\n"
      ],
      "text/markdown": [
       "\n",
       "A tibble: 5 × 2\n",
       "\n",
       "| Medu &lt;dbl&gt; | n &lt;int&gt; |\n",
       "|---|---|\n",
       "| 0 |  3 |\n",
       "| 1 | 35 |\n",
       "| 2 | 66 |\n",
       "| 3 | 70 |\n",
       "| 4 | 95 |\n",
       "\n"
      ],
      "text/plain": [
       "  Medu n \n",
       "1 0     3\n",
       "2 1    35\n",
       "3 2    66\n",
       "4 3    70\n",
       "5 4    95"
      ]
     },
     "metadata": {},
     "output_type": "display_data"
    },
    {
     "data": {
      "text/html": [
       "<table>\n",
       "<caption>A tibble: 4 × 2</caption>\n",
       "<thead>\n",
       "\t<tr><th scope=col>Fedu</th><th scope=col>n</th></tr>\n",
       "\t<tr><th scope=col>&lt;dbl&gt;</th><th scope=col>&lt;int&gt;</th></tr>\n",
       "</thead>\n",
       "<tbody>\n",
       "\t<tr><td>1</td><td>52</td></tr>\n",
       "\t<tr><td>2</td><td>75</td></tr>\n",
       "\t<tr><td>3</td><td>78</td></tr>\n",
       "\t<tr><td>4</td><td>64</td></tr>\n",
       "</tbody>\n",
       "</table>\n"
      ],
      "text/latex": [
       "A tibble: 4 × 2\n",
       "\\begin{tabular}{ll}\n",
       " Fedu & n\\\\\n",
       " <dbl> & <int>\\\\\n",
       "\\hline\n",
       "\t 1 & 52\\\\\n",
       "\t 2 & 75\\\\\n",
       "\t 3 & 78\\\\\n",
       "\t 4 & 64\\\\\n",
       "\\end{tabular}\n"
      ],
      "text/markdown": [
       "\n",
       "A tibble: 4 × 2\n",
       "\n",
       "| Fedu &lt;dbl&gt; | n &lt;int&gt; |\n",
       "|---|---|\n",
       "| 1 | 52 |\n",
       "| 2 | 75 |\n",
       "| 3 | 78 |\n",
       "| 4 | 64 |\n",
       "\n"
      ],
      "text/plain": [
       "  Fedu n \n",
       "1 1    52\n",
       "2 2    75\n",
       "3 3    78\n",
       "4 4    64"
      ]
     },
     "metadata": {},
     "output_type": "display_data"
    },
    {
     "data": {
      "text/html": [
       "<table>\n",
       "<caption>A tibble: 4 × 2</caption>\n",
       "<thead>\n",
       "\t<tr><th scope=col>failures</th><th scope=col>n</th></tr>\n",
       "\t<tr><th scope=col>&lt;dbl&gt;</th><th scope=col>&lt;int&gt;</th></tr>\n",
       "</thead>\n",
       "<tbody>\n",
       "\t<tr><td>0</td><td>221</td></tr>\n",
       "\t<tr><td>1</td><td> 31</td></tr>\n",
       "\t<tr><td>2</td><td>  8</td></tr>\n",
       "\t<tr><td>3</td><td>  9</td></tr>\n",
       "</tbody>\n",
       "</table>\n"
      ],
      "text/latex": [
       "A tibble: 4 × 2\n",
       "\\begin{tabular}{ll}\n",
       " failures & n\\\\\n",
       " <dbl> & <int>\\\\\n",
       "\\hline\n",
       "\t 0 & 221\\\\\n",
       "\t 1 &  31\\\\\n",
       "\t 2 &   8\\\\\n",
       "\t 3 &   9\\\\\n",
       "\\end{tabular}\n"
      ],
      "text/markdown": [
       "\n",
       "A tibble: 4 × 2\n",
       "\n",
       "| failures &lt;dbl&gt; | n &lt;int&gt; |\n",
       "|---|---|\n",
       "| 0 | 221 |\n",
       "| 1 |  31 |\n",
       "| 2 |   8 |\n",
       "| 3 |   9 |\n",
       "\n"
      ],
      "text/plain": [
       "  failures n  \n",
       "1 0        221\n",
       "2 1         31\n",
       "3 2          8\n",
       "4 3          9"
      ]
     },
     "metadata": {},
     "output_type": "display_data"
    },
    {
     "data": {
      "text/html": [
       "<table>\n",
       "<caption>A tibble: 6 × 2</caption>\n",
       "<thead>\n",
       "\t<tr><th scope=col>absences</th><th scope=col>n</th></tr>\n",
       "\t<tr><th scope=col>&lt;dbl&gt;</th><th scope=col>&lt;int&gt;</th></tr>\n",
       "</thead>\n",
       "<tbody>\n",
       "\t<tr><td>0</td><td>54</td></tr>\n",
       "\t<tr><td>1</td><td> 2</td></tr>\n",
       "\t<tr><td>2</td><td>51</td></tr>\n",
       "\t<tr><td>3</td><td> 7</td></tr>\n",
       "\t<tr><td>4</td><td>43</td></tr>\n",
       "\t<tr><td>5</td><td> 5</td></tr>\n",
       "</tbody>\n",
       "</table>\n"
      ],
      "text/latex": [
       "A tibble: 6 × 2\n",
       "\\begin{tabular}{ll}\n",
       " absences & n\\\\\n",
       " <dbl> & <int>\\\\\n",
       "\\hline\n",
       "\t 0 & 54\\\\\n",
       "\t 1 &  2\\\\\n",
       "\t 2 & 51\\\\\n",
       "\t 3 &  7\\\\\n",
       "\t 4 & 43\\\\\n",
       "\t 5 &  5\\\\\n",
       "\\end{tabular}\n"
      ],
      "text/markdown": [
       "\n",
       "A tibble: 6 × 2\n",
       "\n",
       "| absences &lt;dbl&gt; | n &lt;int&gt; |\n",
       "|---|---|\n",
       "| 0 | 54 |\n",
       "| 1 |  2 |\n",
       "| 2 | 51 |\n",
       "| 3 |  7 |\n",
       "| 4 | 43 |\n",
       "| 5 |  5 |\n",
       "\n"
      ],
      "text/plain": [
       "  absences n \n",
       "1 0        54\n",
       "2 1         2\n",
       "3 2        51\n",
       "4 3         7\n",
       "5 4        43\n",
       "6 5         5"
      ]
     },
     "metadata": {},
     "output_type": "display_data"
    },
    {
     "data": {
      "text/html": [
       "<table>\n",
       "<caption>A tibble: 1 × 1</caption>\n",
       "<thead>\n",
       "\t<tr><th scope=col>absences_m</th></tr>\n",
       "\t<tr><th scope=col>&lt;dbl&gt;</th></tr>\n",
       "</thead>\n",
       "<tbody>\n",
       "\t<tr><td>6.427509</td></tr>\n",
       "</tbody>\n",
       "</table>\n"
      ],
      "text/latex": [
       "A tibble: 1 × 1\n",
       "\\begin{tabular}{l}\n",
       " absences\\_m\\\\\n",
       " <dbl>\\\\\n",
       "\\hline\n",
       "\t 6.427509\\\\\n",
       "\\end{tabular}\n"
      ],
      "text/markdown": [
       "\n",
       "A tibble: 1 × 1\n",
       "\n",
       "| absences_m &lt;dbl&gt; |\n",
       "|---|\n",
       "| 6.427509 |\n",
       "\n"
      ],
      "text/plain": [
       "  absences_m\n",
       "1 6.427509  "
      ]
     },
     "metadata": {},
     "output_type": "display_data"
    },
    {
     "data": {
      "text/html": [
       "<table>\n",
       "<caption>A tibble: 1 × 1</caption>\n",
       "<thead>\n",
       "\t<tr><th scope=col>famrel</th></tr>\n",
       "\t<tr><th scope=col>&lt;dbl&gt;</th></tr>\n",
       "</thead>\n",
       "<tbody>\n",
       "\t<tr><td>3.884758</td></tr>\n",
       "</tbody>\n",
       "</table>\n"
      ],
      "text/latex": [
       "A tibble: 1 × 1\n",
       "\\begin{tabular}{l}\n",
       " famrel\\\\\n",
       " <dbl>\\\\\n",
       "\\hline\n",
       "\t 3.884758\\\\\n",
       "\\end{tabular}\n"
      ],
      "text/markdown": [
       "\n",
       "A tibble: 1 × 1\n",
       "\n",
       "| famrel &lt;dbl&gt; |\n",
       "|---|\n",
       "| 3.884758 |\n",
       "\n"
      ],
      "text/plain": [
       "  famrel  \n",
       "1 3.884758"
      ]
     },
     "metadata": {},
     "output_type": "display_data"
    },
    {
     "data": {
      "text/html": [
       "<table>\n",
       "<caption>A tibble: 1 × 1</caption>\n",
       "<thead>\n",
       "\t<tr><th scope=col>health</th></tr>\n",
       "\t<tr><th scope=col>&lt;dbl&gt;</th></tr>\n",
       "</thead>\n",
       "<tbody>\n",
       "\t<tr><td>3.550186</td></tr>\n",
       "</tbody>\n",
       "</table>\n"
      ],
      "text/latex": [
       "A tibble: 1 × 1\n",
       "\\begin{tabular}{l}\n",
       " health\\\\\n",
       " <dbl>\\\\\n",
       "\\hline\n",
       "\t 3.550186\\\\\n",
       "\\end{tabular}\n"
      ],
      "text/markdown": [
       "\n",
       "A tibble: 1 × 1\n",
       "\n",
       "| health &lt;dbl&gt; |\n",
       "|---|\n",
       "| 3.550186 |\n",
       "\n"
      ],
      "text/plain": [
       "  health  \n",
       "1 3.550186"
      ]
     },
     "metadata": {},
     "output_type": "display_data"
    },
    {
     "data": {
      "text/html": [
       "<table>\n",
       "<caption>A tibble: 1 × 1</caption>\n",
       "<thead>\n",
       "\t<tr><th scope=col>traveltime</th></tr>\n",
       "\t<tr><th scope=col>&lt;dbl&gt;</th></tr>\n",
       "</thead>\n",
       "<tbody>\n",
       "\t<tr><td>1.438662</td></tr>\n",
       "</tbody>\n",
       "</table>\n"
      ],
      "text/latex": [
       "A tibble: 1 × 1\n",
       "\\begin{tabular}{l}\n",
       " traveltime\\\\\n",
       " <dbl>\\\\\n",
       "\\hline\n",
       "\t 1.438662\\\\\n",
       "\\end{tabular}\n"
      ],
      "text/markdown": [
       "\n",
       "A tibble: 1 × 1\n",
       "\n",
       "| traveltime &lt;dbl&gt; |\n",
       "|---|\n",
       "| 1.438662 |\n",
       "\n"
      ],
      "text/plain": [
       "  traveltime\n",
       "1 1.438662  "
      ]
     },
     "metadata": {},
     "output_type": "display_data"
    },
    {
     "data": {
      "text/html": [
       "<table>\n",
       "<caption>A tibble: 17 × 2</caption>\n",
       "<thead>\n",
       "\t<tr><th scope=col>G3</th><th scope=col>n</th></tr>\n",
       "\t<tr><th scope=col>&lt;dbl&gt;</th><th scope=col>&lt;int&gt;</th></tr>\n",
       "</thead>\n",
       "<tbody>\n",
       "\t<tr><td> 4</td><td> 1</td></tr>\n",
       "\t<tr><td> 5</td><td> 5</td></tr>\n",
       "\t<tr><td> 6</td><td>10</td></tr>\n",
       "\t<tr><td> 7</td><td> 8</td></tr>\n",
       "\t<tr><td> 8</td><td>23</td></tr>\n",
       "\t<tr><td> 9</td><td>22</td></tr>\n",
       "\t<tr><td>10</td><td>40</td></tr>\n",
       "\t<tr><td>11</td><td>38</td></tr>\n",
       "\t<tr><td>12</td><td>22</td></tr>\n",
       "\t<tr><td>13</td><td>25</td></tr>\n",
       "\t<tr><td>14</td><td>17</td></tr>\n",
       "\t<tr><td>15</td><td>28</td></tr>\n",
       "\t<tr><td>16</td><td>13</td></tr>\n",
       "\t<tr><td>17</td><td> 4</td></tr>\n",
       "\t<tr><td>18</td><td> 8</td></tr>\n",
       "\t<tr><td>19</td><td> 4</td></tr>\n",
       "\t<tr><td>20</td><td> 1</td></tr>\n",
       "</tbody>\n",
       "</table>\n"
      ],
      "text/latex": [
       "A tibble: 17 × 2\n",
       "\\begin{tabular}{ll}\n",
       " G3 & n\\\\\n",
       " <dbl> & <int>\\\\\n",
       "\\hline\n",
       "\t  4 &  1\\\\\n",
       "\t  5 &  5\\\\\n",
       "\t  6 & 10\\\\\n",
       "\t  7 &  8\\\\\n",
       "\t  8 & 23\\\\\n",
       "\t  9 & 22\\\\\n",
       "\t 10 & 40\\\\\n",
       "\t 11 & 38\\\\\n",
       "\t 12 & 22\\\\\n",
       "\t 13 & 25\\\\\n",
       "\t 14 & 17\\\\\n",
       "\t 15 & 28\\\\\n",
       "\t 16 & 13\\\\\n",
       "\t 17 &  4\\\\\n",
       "\t 18 &  8\\\\\n",
       "\t 19 &  4\\\\\n",
       "\t 20 &  1\\\\\n",
       "\\end{tabular}\n"
      ],
      "text/markdown": [
       "\n",
       "A tibble: 17 × 2\n",
       "\n",
       "| G3 &lt;dbl&gt; | n &lt;int&gt; |\n",
       "|---|---|\n",
       "|  4 |  1 |\n",
       "|  5 |  5 |\n",
       "|  6 | 10 |\n",
       "|  7 |  8 |\n",
       "|  8 | 23 |\n",
       "|  9 | 22 |\n",
       "| 10 | 40 |\n",
       "| 11 | 38 |\n",
       "| 12 | 22 |\n",
       "| 13 | 25 |\n",
       "| 14 | 17 |\n",
       "| 15 | 28 |\n",
       "| 16 | 13 |\n",
       "| 17 |  4 |\n",
       "| 18 |  8 |\n",
       "| 19 |  4 |\n",
       "| 20 |  1 |\n",
       "\n"
      ],
      "text/plain": [
       "   G3 n \n",
       "1   4  1\n",
       "2   5  5\n",
       "3   6 10\n",
       "4   7  8\n",
       "5   8 23\n",
       "6   9 22\n",
       "7  10 40\n",
       "8  11 38\n",
       "9  12 22\n",
       "10 13 25\n",
       "11 14 17\n",
       "12 15 28\n",
       "13 16 13\n",
       "14 17  4\n",
       "15 18  8\n",
       "16 19  4\n",
       "17 20  1"
      ]
     },
     "metadata": {},
     "output_type": "display_data"
    }
   ],
   "source": [
    "# Exploratory Data Analysis\n",
    "# Distribution of mother's education level\n",
    "student_train_meduc <- group_by(student_train, Medu) %>%\n",
    "    summarize(n = n())\n",
    "\n",
    "# Distribution of father's education level\n",
    "student_train_feduc <- group_by(student_train, Fedu) %>%\n",
    "    summarize(n = n())\n",
    "\n",
    "# Counts number of student failures\n",
    "student_train_failure <- group_by(student_train, failures) %>%\n",
    "    summarize(n=n())\n",
    "\n",
    "# Counts number of student absences\n",
    "student_train_absences <- group_by(student_train, absences) %>%\n",
    "    summarize(n=n())\n",
    "\n",
    "# Computes mean of student absences\n",
    "student_train_absences_m <- group_by(student_train) %>%\n",
    "    summarize(absences_m = mean(absences))\n",
    "\n",
    "# Computes mean family relationship quality\n",
    "student_train_famrel <- group_by(student_train) %>%\n",
    "    summarize(famrel = mean(famrel))\n",
    "\n",
    "# Computes mean overall health status\n",
    "student_train_health <- group_by(student_train) %>%\n",
    "    summarize(health = mean(health))\n",
    "\n",
    "# Computes mean student travel time\n",
    "student_train_travel <- group_by(student_train) %>%\n",
    "    summarize(traveltime = mean(traveltime))\n",
    "\n",
    "# Student final grade distribution\n",
    "student_train_G3 <- group_by(student_train, G3) %>%\n",
    "    summarize(n = n())\n",
    "\n",
    "head(student_train_meduc)\n",
    "head(student_train_feduc)\n",
    "head(student_train_failure)\n",
    "head(student_train_absences)\n",
    "head(student_train_absences_m)\n",
    "head(student_train_famrel)\n",
    "head(student_train_health)\n",
    "head(student_train_travel)\n",
    "student_train_G3"
   ]
  },
  {
   "cell_type": "code",
   "execution_count": 20,
   "metadata": {},
   "outputs": [
    {
     "data": {
      "image/png": "[encoded data removed]",
      "text/plain": [
       "plot without title"
      ]
     },
     "metadata": {
      "image/png": {
       "height": 720,
       "width": 720
      }
     },
     "output_type": "display_data"
    }
   ],
   "source": [
    "# Exploratory plot of Final Grade vs Number of Failures\n",
    "student_plot <- ggplot(student_train, aes(x = failures, y = G3)) +\n",
    "    geom_point() +\n",
    "    labs(x = \"Number of Failures\" , y = \"Final Grade (out of 20)\") +\n",
    "    theme(text = element_text(size = 20))\n",
    "student_plot"
   ]
  },
  {
   "cell_type": "code",
   "execution_count": 21,
   "metadata": {},
   "outputs": [
    {
     "data": {
      "image/png": "[encoded data removed]",
      "text/plain": [
       "plot without title"
      ]
     },
     "metadata": {
      "image/png": {
       "height": 720,
       "width": 720
      }
     },
     "output_type": "display_data"
    }
   ],
   "source": [
    "# Exporatory plot of Number of Absences vs Number of Failure with Grades as class labels\n",
    "student_plot2 <- ggplot(student_train, aes(x = failures, y = absences, fill = label)) +\n",
    "    geom_point(aes(color = label), size = 3) +\n",
    "    labs(x = \"Number of Failures\" , y = \"Number of Absences\", fill = \"Grade Class\", color = \"Grade Class\") +\n",
    "    theme(text = element_text(size = 20))\n",
    "student_plot2"
   ]
  },
  {
   "cell_type": "code",
   "execution_count": 22,
   "metadata": {},
   "outputs": [
    {
     "data": {
      "text/plain": [
       "══ Workflow [trained] ══════════════════════════════════════════════════════════\n",
       "\u001b[3mPreprocessor:\u001b[23m Recipe\n",
       "\u001b[3mModel:\u001b[23m nearest_neighbor()\n",
       "\n",
       "── Preprocessor ────────────────────────────────────────────────────────────────\n",
       "2 Recipe Steps\n",
       "\n",
       "● step_scale()\n",
       "● step_center()\n",
       "\n",
       "── Model ───────────────────────────────────────────────────────────────────────\n",
       "\n",
       "Call:\n",
       "kknn::train.kknn(formula = ..y ~ ., data = data, ks = ~5, kernel = ~\"rectangular\")\n",
       "\n",
       "Type of response variable: nominal\n",
       "Minimal misclassification: 0.6840149\n",
       "Best kernel: rectangular\n",
       "Best k: 5"
      ]
     },
     "metadata": {},
     "output_type": "display_data"
    }
   ],
   "source": [
    "# model specification to produce a baseline accuracy\n",
    "\n",
    "set.seed(2020)\n",
    "# Medu + Fedu + studytime + failures + famrel + health + absences\n",
    "student_recipe <- recipe(label ~ Medu + Fedu + studytime + failures  + health + absences, \n",
    "                         data = student_train) %>%\n",
    "     step_scale(all_predictors()) %>%\n",
    "     step_center(all_predictors())\n",
    "    \n",
    "knn_spec <- nearest_neighbor(weight_func = \"rectangular\", neighbors = 5) %>%\n",
    "     set_engine(\"kknn\") %>%\n",
    "     set_mode(\"classification\")\n",
    "\n",
    "\n",
    "knn_fit <- workflow() %>%\n",
    "     add_recipe(student_recipe) %>%\n",
    "     add_model(knn_spec) %>%\n",
    "     fit(data = student_train)\n",
    "\n",
    "knn_fit"
   ]
  },
  {
   "cell_type": "code",
   "execution_count": 23,
   "metadata": {},
   "outputs": [
    {
     "data": {
      "text/html": [
       "<table>\n",
       "<caption>A tibble: 2 × 3</caption>\n",
       "<thead>\n",
       "\t<tr><th scope=col>.metric</th><th scope=col>.estimator</th><th scope=col>.estimate</th></tr>\n",
       "\t<tr><th scope=col>&lt;chr&gt;</th><th scope=col>&lt;chr&gt;</th><th scope=col>&lt;dbl&gt;</th></tr>\n",
       "</thead>\n",
       "<tbody>\n",
       "\t<tr><td>accuracy</td><td>multiclass</td><td> 0.20454545</td></tr>\n",
       "\t<tr><td>kap     </td><td>multiclass</td><td>-0.02189781</td></tr>\n",
       "</tbody>\n",
       "</table>\n"
      ],
      "text/latex": [
       "A tibble: 2 × 3\n",
       "\\begin{tabular}{lll}\n",
       " .metric & .estimator & .estimate\\\\\n",
       " <chr> & <chr> & <dbl>\\\\\n",
       "\\hline\n",
       "\t accuracy & multiclass &  0.20454545\\\\\n",
       "\t kap      & multiclass & -0.02189781\\\\\n",
       "\\end{tabular}\n"
      ],
      "text/markdown": [
       "\n",
       "A tibble: 2 × 3\n",
       "\n",
       "| .metric &lt;chr&gt; | .estimator &lt;chr&gt; | .estimate &lt;dbl&gt; |\n",
       "|---|---|---|\n",
       "| accuracy | multiclass |  0.20454545 |\n",
       "| kap      | multiclass | -0.02189781 |\n",
       "\n"
      ],
      "text/plain": [
       "  .metric  .estimator .estimate  \n",
       "1 accuracy multiclass  0.20454545\n",
       "2 kap      multiclass -0.02189781"
      ]
     },
     "metadata": {},
     "output_type": "display_data"
    },
    {
     "data": {
      "text/plain": [
       "          Truth\n",
       "Prediction 1 2 3 4 5\n",
       "         1 5 7 5 3 2\n",
       "         2 9 6 5 2 3\n",
       "         3 1 3 2 2 2\n",
       "         4 6 8 3 5 3\n",
       "         5 2 1 0 3 0"
      ]
     },
     "metadata": {},
     "output_type": "display_data"
    }
   ],
   "source": [
    "#\n",
    "student_test_pred <- predict(knn_fit, student_test) %>%\n",
    "    bind_cols(student_test)\n",
    "\n",
    "accuracy = student_test_pred %>%\n",
    "    metrics(truth = label, estimate = .pred_class)\n",
    "\n",
    "confusion = student_test_pred %>%\n",
    "    conf_mat(truth = label, estimate = .pred_class)\n",
    "\n",
    "accuracy\n",
    "confusion"
   ]
  },
  {
   "cell_type": "markdown",
   "metadata": {},
   "source": [
    "With 5 neighbours we found that the accuracy is only 26% and we can definitely do better. We will tune our classifier in order to increase our accuracy."
   ]
  },
  {
   "cell_type": "code",
   "execution_count": 24,
   "metadata": {},
   "outputs": [
    {
     "data": {
      "text/html": [
       "<table>\n",
       "<caption>A tibble: 2 × 5</caption>\n",
       "<thead>\n",
       "\t<tr><th scope=col>.metric</th><th scope=col>.estimator</th><th scope=col>mean</th><th scope=col>n</th><th scope=col>std_err</th></tr>\n",
       "\t<tr><th scope=col>&lt;chr&gt;</th><th scope=col>&lt;chr&gt;</th><th scope=col>&lt;dbl&gt;</th><th scope=col>&lt;int&gt;</th><th scope=col>&lt;dbl&gt;</th></tr>\n",
       "</thead>\n",
       "<tbody>\n",
       "\t<tr><td>accuracy</td><td>multiclass</td><td>0.2817451</td><td>5</td><td>0.02283336</td></tr>\n",
       "\t<tr><td>roc_auc </td><td>hand_till </td><td>0.5528744</td><td>5</td><td>0.02236454</td></tr>\n",
       "</tbody>\n",
       "</table>\n"
      ],
      "text/latex": [
       "A tibble: 2 × 5\n",
       "\\begin{tabular}{lllll}\n",
       " .metric & .estimator & mean & n & std\\_err\\\\\n",
       " <chr> & <chr> & <dbl> & <int> & <dbl>\\\\\n",
       "\\hline\n",
       "\t accuracy & multiclass & 0.2817451 & 5 & 0.02283336\\\\\n",
       "\t roc\\_auc  & hand\\_till  & 0.5528744 & 5 & 0.02236454\\\\\n",
       "\\end{tabular}\n"
      ],
      "text/markdown": [
       "\n",
       "A tibble: 2 × 5\n",
       "\n",
       "| .metric &lt;chr&gt; | .estimator &lt;chr&gt; | mean &lt;dbl&gt; | n &lt;int&gt; | std_err &lt;dbl&gt; |\n",
       "|---|---|---|---|---|\n",
       "| accuracy | multiclass | 0.2817451 | 5 | 0.02283336 |\n",
       "| roc_auc  | hand_till  | 0.5528744 | 5 | 0.02236454 |\n",
       "\n"
      ],
      "text/plain": [
       "  .metric  .estimator mean      n std_err   \n",
       "1 accuracy multiclass 0.2817451 5 0.02283336\n",
       "2 roc_auc  hand_till  0.5528744 5 0.02236454"
      ]
     },
     "metadata": {},
     "output_type": "display_data"
    }
   ],
   "source": [
    "# cross-validation\n",
    "student_vfold <- vfold_cv(student_train, v = 5, strata = label)\n",
    "\n",
    "set.seed(2020)\n",
    "\n",
    "student_recipe_2 <- recipe(label ~ Medu + Fedu + studytime + failures  + health + absences, \n",
    "                         data = student_train) %>%\n",
    "     step_scale(all_predictors()) %>%\n",
    "     step_center(all_predictors())\n",
    "\n",
    "knn_fit_2 <- workflow() %>%\n",
    "    add_recipe(student_recipe_2) %>%\n",
    "    add_model(knn_spec) %>%\n",
    "    fit_resamples(resamples = student_vfold)\n",
    "\n",
    "knn_fit_2 %>% collect_metrics()"
   ]
  },
  {
   "cell_type": "code",
   "execution_count": 26,
   "metadata": {},
   "outputs": [
    {
     "data": {
      "image/png": "[encoded data removed]",
      "text/plain": [
       "plot without title"
      ]
     },
     "metadata": {
      "image/png": {
       "height": 720,
       "width": 720
      }
     },
     "output_type": "display_data"
    }
   ],
   "source": [
    "# Finding the best K by plotting accuracy vs K\n",
    "\n",
    "knn_spec_tune <- nearest_neighbor(weight_func = \"rectangular\", neighbors = tune()) %>%\n",
    "    set_engine(\"kknn\") %>%\n",
    "    set_mode(\"classification\")\n",
    "\n",
    "set.seed(2020)\n",
    "\n",
    "knn_results_tuned <- workflow() %>%\n",
    "    add_recipe(student_recipe) %>%\n",
    "    add_model(knn_spec_tune) %>%\n",
    "    tune_grid(resamples = student_vfold, grid = 15) %>%\n",
    "    collect_metrics()\n",
    "\n",
    "\n",
    "accuracies <- knn_results_tuned %>%\n",
    "    filter(.metric == \"accuracy\")\n",
    "\n",
    "accuracy_vs_k <- ggplot(accuracies, aes(x = neighbors, y = mean)) +\n",
    "    geom_point() +\n",
    "    geom_line() +\n",
    "    labs(x = \"Neighbours\", y = \"Accuracy Est.\") +\n",
    "    scale_x_continuous(breaks = 1:15)\n",
    "    \n",
    "accuracy_vs_k"
   ]
  },
  {
   "cell_type": "markdown",
   "metadata": {},
   "source": [
    "The visualization suggests that $K$ =  14 provides the highest accuracy. Unfortunately, the accuracy is only slightly above our previous $K$ of 5. With $K$ = 14, the accuracy increases to just over 30%, while at $K$ = 5, the accuracy was 26%."
   ]
  },
  {
   "cell_type": "code",
   "execution_count": 30,
   "metadata": {},
   "outputs": [
    {
     "data": {
      "text/plain": [
       "══ Workflow [trained] ══════════════════════════════════════════════════════════\n",
       "\u001b[3mPreprocessor:\u001b[23m Recipe\n",
       "\u001b[3mModel:\u001b[23m nearest_neighbor()\n",
       "\n",
       "── Preprocessor ────────────────────────────────────────────────────────────────\n",
       "2 Recipe Steps\n",
       "\n",
       "● step_scale()\n",
       "● step_center()\n",
       "\n",
       "── Model ───────────────────────────────────────────────────────────────────────\n",
       "\n",
       "Call:\n",
       "kknn::train.kknn(formula = ..y ~ ., data = data, ks = ~5, kernel = ~\"rectangular\")\n",
       "\n",
       "Type of response variable: nominal\n",
       "Minimal misclassification: 0.732342\n",
       "Best kernel: rectangular\n",
       "Best k: 5"
      ]
     },
     "metadata": {},
     "output_type": "display_data"
    },
    {
     "data": {
      "text/html": [
       "<table>\n",
       "<caption>A tibble: 2 × 3</caption>\n",
       "<thead>\n",
       "\t<tr><th scope=col>.metric</th><th scope=col>.estimator</th><th scope=col>.estimate</th></tr>\n",
       "\t<tr><th scope=col>&lt;chr&gt;</th><th scope=col>&lt;chr&gt;</th><th scope=col>&lt;dbl&gt;</th></tr>\n",
       "</thead>\n",
       "<tbody>\n",
       "\t<tr><td>accuracy</td><td>multiclass</td><td>0.3409091</td></tr>\n",
       "\t<tr><td>kap     </td><td>multiclass</td><td>0.1601119</td></tr>\n",
       "</tbody>\n",
       "</table>\n"
      ],
      "text/latex": [
       "A tibble: 2 × 3\n",
       "\\begin{tabular}{lll}\n",
       " .metric & .estimator & .estimate\\\\\n",
       " <chr> & <chr> & <dbl>\\\\\n",
       "\\hline\n",
       "\t accuracy & multiclass & 0.3409091\\\\\n",
       "\t kap      & multiclass & 0.1601119\\\\\n",
       "\\end{tabular}\n"
      ],
      "text/markdown": [
       "\n",
       "A tibble: 2 × 3\n",
       "\n",
       "| .metric &lt;chr&gt; | .estimator &lt;chr&gt; | .estimate &lt;dbl&gt; |\n",
       "|---|---|---|\n",
       "| accuracy | multiclass | 0.3409091 |\n",
       "| kap      | multiclass | 0.1601119 |\n",
       "\n"
      ],
      "text/plain": [
       "  .metric  .estimator .estimate\n",
       "1 accuracy multiclass 0.3409091\n",
       "2 kap      multiclass 0.1601119"
      ]
     },
     "metadata": {},
     "output_type": "display_data"
    },
    {
     "data": {
      "text/plain": [
       "          Truth\n",
       "Prediction  1  2  3  4  5\n",
       "         1 10  5  1  2  1\n",
       "         2  6  7  5  3  3\n",
       "         3  2  5  5  4  3\n",
       "         4  2  5  3  6  1\n",
       "         5  3  3  1  0  2"
      ]
     },
     "metadata": {},
     "output_type": "display_data"
    },
    {
     "data": {
      "text/html": [
       "<table>\n",
       "<caption>A tibble: 2 × 5</caption>\n",
       "<thead>\n",
       "\t<tr><th scope=col>.metric</th><th scope=col>.estimator</th><th scope=col>mean</th><th scope=col>n</th><th scope=col>std_err</th></tr>\n",
       "\t<tr><th scope=col>&lt;chr&gt;</th><th scope=col>&lt;chr&gt;</th><th scope=col>&lt;dbl&gt;</th><th scope=col>&lt;int&gt;</th><th scope=col>&lt;dbl&gt;</th></tr>\n",
       "</thead>\n",
       "<tbody>\n",
       "\t<tr><td>accuracy</td><td>multiclass</td><td>0.2723718</td><td>5</td><td>0.02547679</td></tr>\n",
       "\t<tr><td>roc_auc </td><td>hand_till </td><td>0.5247484</td><td>5</td><td>0.01545251</td></tr>\n",
       "</tbody>\n",
       "</table>\n"
      ],
      "text/latex": [
       "A tibble: 2 × 5\n",
       "\\begin{tabular}{lllll}\n",
       " .metric & .estimator & mean & n & std\\_err\\\\\n",
       " <chr> & <chr> & <dbl> & <int> & <dbl>\\\\\n",
       "\\hline\n",
       "\t accuracy & multiclass & 0.2723718 & 5 & 0.02547679\\\\\n",
       "\t roc\\_auc  & hand\\_till  & 0.5247484 & 5 & 0.01545251\\\\\n",
       "\\end{tabular}\n"
      ],
      "text/markdown": [
       "\n",
       "A tibble: 2 × 5\n",
       "\n",
       "| .metric &lt;chr&gt; | .estimator &lt;chr&gt; | mean &lt;dbl&gt; | n &lt;int&gt; | std_err &lt;dbl&gt; |\n",
       "|---|---|---|---|---|\n",
       "| accuracy | multiclass | 0.2723718 | 5 | 0.02547679 |\n",
       "| roc_auc  | hand_till  | 0.5247484 | 5 | 0.01545251 |\n",
       "\n"
      ],
      "text/plain": [
       "  .metric  .estimator mean      n std_err   \n",
       "1 accuracy multiclass 0.2723718 5 0.02547679\n",
       "2 roc_auc  hand_till  0.5247484 5 0.01545251"
      ]
     },
     "metadata": {},
     "output_type": "display_data"
    },
    {
     "data": {
      "text/html": [
       "<table>\n",
       "<caption>A tibble: 14 × 7</caption>\n",
       "<thead>\n",
       "\t<tr><th scope=col>neighbors</th><th scope=col>.metric</th><th scope=col>.estimator</th><th scope=col>mean</th><th scope=col>n</th><th scope=col>std_err</th><th scope=col>.config</th></tr>\n",
       "\t<tr><th scope=col>&lt;int&gt;</th><th scope=col>&lt;chr&gt;</th><th scope=col>&lt;chr&gt;</th><th scope=col>&lt;dbl&gt;</th><th scope=col>&lt;int&gt;</th><th scope=col>&lt;dbl&gt;</th><th scope=col>&lt;chr&gt;</th></tr>\n",
       "</thead>\n",
       "<tbody>\n",
       "\t<tr><td> 1</td><td>accuracy</td><td>multiclass</td><td>0.1976995</td><td>5</td><td>0.017901660</td><td>Model01</td></tr>\n",
       "\t<tr><td> 2</td><td>accuracy</td><td>multiclass</td><td>0.1976995</td><td>5</td><td>0.017901660</td><td>Model02</td></tr>\n",
       "\t<tr><td> 3</td><td>accuracy</td><td>multiclass</td><td>0.2087460</td><td>5</td><td>0.024084091</td><td>Model03</td></tr>\n",
       "\t<tr><td> 4</td><td>accuracy</td><td>multiclass</td><td>0.2539076</td><td>5</td><td>0.027250160</td><td>Model04</td></tr>\n",
       "\t<tr><td> 6</td><td>accuracy</td><td>multiclass</td><td>0.2795824</td><td>5</td><td>0.028029632</td><td>Model05</td></tr>\n",
       "\t<tr><td> 7</td><td>accuracy</td><td>multiclass</td><td>0.2611908</td><td>5</td><td>0.026451630</td><td>Model06</td></tr>\n",
       "\t<tr><td> 8</td><td>accuracy</td><td>multiclass</td><td>0.2351094</td><td>5</td><td>0.022610290</td><td>Model07</td></tr>\n",
       "\t<tr><td> 9</td><td>accuracy</td><td>multiclass</td><td>0.2456016</td><td>5</td><td>0.014559083</td><td>Model08</td></tr>\n",
       "\t<tr><td>10</td><td>accuracy</td><td>multiclass</td><td>0.2457388</td><td>5</td><td>0.011301011</td><td>Model09</td></tr>\n",
       "\t<tr><td>11</td><td>accuracy</td><td>multiclass</td><td>0.2306366</td><td>5</td><td>0.005707384</td><td>Model10</td></tr>\n",
       "\t<tr><td>12</td><td>accuracy</td><td>multiclass</td><td>0.2381165</td><td>5</td><td>0.011726172</td><td>Model11</td></tr>\n",
       "\t<tr><td>13</td><td>accuracy</td><td>multiclass</td><td>0.2377668</td><td>5</td><td>0.009466989</td><td>Model12</td></tr>\n",
       "\t<tr><td>14</td><td>accuracy</td><td>multiclass</td><td>0.2300073</td><td>5</td><td>0.020262663</td><td>Model13</td></tr>\n",
       "\t<tr><td>15</td><td>accuracy</td><td>multiclass</td><td>0.2189636</td><td>5</td><td>0.017600389</td><td>Model14</td></tr>\n",
       "</tbody>\n",
       "</table>\n"
      ],
      "text/latex": [
       "A tibble: 14 × 7\n",
       "\\begin{tabular}{lllllll}\n",
       " neighbors & .metric & .estimator & mean & n & std\\_err & .config\\\\\n",
       " <int> & <chr> & <chr> & <dbl> & <int> & <dbl> & <chr>\\\\\n",
       "\\hline\n",
       "\t  1 & accuracy & multiclass & 0.1976995 & 5 & 0.017901660 & Model01\\\\\n",
       "\t  2 & accuracy & multiclass & 0.1976995 & 5 & 0.017901660 & Model02\\\\\n",
       "\t  3 & accuracy & multiclass & 0.2087460 & 5 & 0.024084091 & Model03\\\\\n",
       "\t  4 & accuracy & multiclass & 0.2539076 & 5 & 0.027250160 & Model04\\\\\n",
       "\t  6 & accuracy & multiclass & 0.2795824 & 5 & 0.028029632 & Model05\\\\\n",
       "\t  7 & accuracy & multiclass & 0.2611908 & 5 & 0.026451630 & Model06\\\\\n",
       "\t  8 & accuracy & multiclass & 0.2351094 & 5 & 0.022610290 & Model07\\\\\n",
       "\t  9 & accuracy & multiclass & 0.2456016 & 5 & 0.014559083 & Model08\\\\\n",
       "\t 10 & accuracy & multiclass & 0.2457388 & 5 & 0.011301011 & Model09\\\\\n",
       "\t 11 & accuracy & multiclass & 0.2306366 & 5 & 0.005707384 & Model10\\\\\n",
       "\t 12 & accuracy & multiclass & 0.2381165 & 5 & 0.011726172 & Model11\\\\\n",
       "\t 13 & accuracy & multiclass & 0.2377668 & 5 & 0.009466989 & Model12\\\\\n",
       "\t 14 & accuracy & multiclass & 0.2300073 & 5 & 0.020262663 & Model13\\\\\n",
       "\t 15 & accuracy & multiclass & 0.2189636 & 5 & 0.017600389 & Model14\\\\\n",
       "\\end{tabular}\n"
      ],
      "text/markdown": [
       "\n",
       "A tibble: 14 × 7\n",
       "\n",
       "| neighbors &lt;int&gt; | .metric &lt;chr&gt; | .estimator &lt;chr&gt; | mean &lt;dbl&gt; | n &lt;int&gt; | std_err &lt;dbl&gt; | .config &lt;chr&gt; |\n",
       "|---|---|---|---|---|---|---|\n",
       "|  1 | accuracy | multiclass | 0.1976995 | 5 | 0.017901660 | Model01 |\n",
       "|  2 | accuracy | multiclass | 0.1976995 | 5 | 0.017901660 | Model02 |\n",
       "|  3 | accuracy | multiclass | 0.2087460 | 5 | 0.024084091 | Model03 |\n",
       "|  4 | accuracy | multiclass | 0.2539076 | 5 | 0.027250160 | Model04 |\n",
       "|  6 | accuracy | multiclass | 0.2795824 | 5 | 0.028029632 | Model05 |\n",
       "|  7 | accuracy | multiclass | 0.2611908 | 5 | 0.026451630 | Model06 |\n",
       "|  8 | accuracy | multiclass | 0.2351094 | 5 | 0.022610290 | Model07 |\n",
       "|  9 | accuracy | multiclass | 0.2456016 | 5 | 0.014559083 | Model08 |\n",
       "| 10 | accuracy | multiclass | 0.2457388 | 5 | 0.011301011 | Model09 |\n",
       "| 11 | accuracy | multiclass | 0.2306366 | 5 | 0.005707384 | Model10 |\n",
       "| 12 | accuracy | multiclass | 0.2381165 | 5 | 0.011726172 | Model11 |\n",
       "| 13 | accuracy | multiclass | 0.2377668 | 5 | 0.009466989 | Model12 |\n",
       "| 14 | accuracy | multiclass | 0.2300073 | 5 | 0.020262663 | Model13 |\n",
       "| 15 | accuracy | multiclass | 0.2189636 | 5 | 0.017600389 | Model14 |\n",
       "\n"
      ],
      "text/plain": [
       "   neighbors .metric  .estimator mean      n std_err     .config\n",
       "1   1        accuracy multiclass 0.1976995 5 0.017901660 Model01\n",
       "2   2        accuracy multiclass 0.1976995 5 0.017901660 Model02\n",
       "3   3        accuracy multiclass 0.2087460 5 0.024084091 Model03\n",
       "4   4        accuracy multiclass 0.2539076 5 0.027250160 Model04\n",
       "5   6        accuracy multiclass 0.2795824 5 0.028029632 Model05\n",
       "6   7        accuracy multiclass 0.2611908 5 0.026451630 Model06\n",
       "7   8        accuracy multiclass 0.2351094 5 0.022610290 Model07\n",
       "8   9        accuracy multiclass 0.2456016 5 0.014559083 Model08\n",
       "9  10        accuracy multiclass 0.2457388 5 0.011301011 Model09\n",
       "10 11        accuracy multiclass 0.2306366 5 0.005707384 Model10\n",
       "11 12        accuracy multiclass 0.2381165 5 0.011726172 Model11\n",
       "12 13        accuracy multiclass 0.2377668 5 0.009466989 Model12\n",
       "13 14        accuracy multiclass 0.2300073 5 0.020262663 Model13\n",
       "14 15        accuracy multiclass 0.2189636 5 0.017600389 Model14"
      ]
     },
     "metadata": {},
     "output_type": "display_data"
    },
    {
     "data": {
      "image/png": "[encoded data removed]",
      "text/plain": [
       "plot without title"
      ]
     },
     "metadata": {
      "image/png": {
       "height": 720,
       "width": 720
      }
     },
     "output_type": "display_data"
    }
   ],
   "source": [
    "#### TEST\n",
    "\n",
    "set.seed(2020)\n",
    "# Medu + Fedu + studytime + failures + famrel + health + absences\n",
    "student_recipe_time <- recipe(label ~ traveltime + goout + studytime + freetime + health + absences , \n",
    "                         data = student_train) %>%\n",
    "     step_scale(all_predictors()) %>%\n",
    "     step_center(all_predictors())\n",
    "    \n",
    "knn_spec <- nearest_neighbor(weight_func = \"rectangular\", neighbors = 5) %>%\n",
    "     set_engine(\"kknn\") %>%\n",
    "     set_mode(\"classification\")\n",
    "\n",
    "\n",
    "knn_fit_time <- workflow() %>%\n",
    "     add_recipe(student_recipe_time) %>%\n",
    "     add_model(knn_spec) %>%\n",
    "     fit(data = student_train)\n",
    "\n",
    "knn_fit_time\n",
    "\n",
    "student_test_pred <- predict(knn_fit_time, student_test) %>%\n",
    "    bind_cols(student_test)\n",
    "\n",
    "accuracy = student_test_pred %>%\n",
    "    metrics(truth = label, estimate = .pred_class)\n",
    "\n",
    "confusion = student_test_pred %>%\n",
    "    conf_mat(truth = label, estimate = .pred_class)\n",
    "\n",
    "accuracy\n",
    "confusion\n",
    "\n",
    "student_vfold <- vfold_cv(student_train, v = 5, strata = label)\n",
    "\n",
    "\n",
    "student_recipe_2_time <- recipe(label ~  traveltime  + goout + studytime + freetime + health + absences, \n",
    "                         data = student_train) %>%\n",
    "     step_scale(all_predictors()) %>%\n",
    "     step_center(all_predictors())\n",
    "\n",
    "knn_fit_2_time <- workflow() %>%\n",
    "    add_recipe(student_recipe_2_time) %>%\n",
    "    add_model(knn_spec) %>%\n",
    "    fit_resamples(resamples = student_vfold)\n",
    "\n",
    "knn_fit_2_time %>% collect_metrics()\n",
    "\n",
    "knn_spec_tune_time <- nearest_neighbor(weight_func = \"rectangular\", neighbors = tune()) %>%\n",
    "    set_engine(\"kknn\") %>%\n",
    "    set_mode(\"classification\")\n",
    "\n",
    "\n",
    "knn_results_tuned_time <- workflow() %>%\n",
    "    add_recipe(student_recipe_time) %>%\n",
    "    add_model(knn_spec_tune_time) %>%\n",
    "    tune_grid(resamples = student_vfold, grid = 15) %>%\n",
    "    collect_metrics()\n",
    "\n",
    "accuracies <- knn_results_tuned_time %>%\n",
    "    filter(.metric == \"accuracy\")\n",
    "\n",
    "accuracy_vs_k <- ggplot(accuracies, aes(x = neighbors, y = mean)) +\n",
    "    geom_point() +\n",
    "    geom_line() +\n",
    "    labs(x = \"Neighbours\", y = \"Accuracy Est.\") +\n",
    "    scale_x_continuous(breaks = 1:15)\n",
    "    \n",
    "accuracy_vs_k"
   ]
  },
  {
   "cell_type": "code",
   "execution_count": null,
   "metadata": {},
   "outputs": [],
   "source": []
  }
 ],
 "metadata": {
  "kernelspec": {
   "display_name": "R",
   "language": "R",
   "name": "ir"
  },
  "language_info": {
   "codemirror_mode": "r",
   "file_extension": ".r",
   "mimetype": "text/x-r-source",
   "name": "R",
   "pygments_lexer": "r",
   "version": "4.0.0"
  }
 },
 "nbformat": 4,
 "nbformat_minor": 4
}
